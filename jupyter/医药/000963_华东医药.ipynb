{
 "nbformat": 4,
 "nbformat_minor": 2,
 "metadata": {
  "language_info": {
   "name": "python",
   "codemirror_mode": {
    "name": "ipython",
    "version": 3
   },
   "version": "3.7.5-final"
  },
  "orig_nbformat": 2,
  "file_extension": ".py",
  "mimetype": "text/x-python",
  "name": "python",
  "npconvert_exporter": "python",
  "pygments_lexer": "ipython3",
  "version": 3,
  "kernelspec": {
   "name": "python37564bitstockpypipenvda85454301254b8199584ee9cf8c3fd6",
   "display_name": "Python 3.7.5 64-bit ('stockpy': pipenv)"
  }
 },
 "cells": [
  {
   "cell_type": "code",
   "execution_count": 27,
   "metadata": {},
   "outputs": [
    {
     "name": "stdout",
     "output_type": "stream",
     "text": "<class 'stockpy.cli.stock.Stock'>\n"
    }
   ],
   "source": [
    "TS_CODE = '000963'\n",
    "REPORT_Y = 2019\n",
    "REPORT_Q = 4\n",
    "\n",
    "\n",
    "import stockpy.cli.stock\n",
    "print(stock.Stock)"
   ]
  },
  {
   "cell_type": "markdown",
   "metadata": {},
   "source": [
    "# 1公司信息\n",
    "\n",
    "## 1.1组织架构\n",
    "TBD\n",
    "\n",
    "## 1.2管理团队\n",
    "TBD\n",
    "\n",
    "## 1.3员工\n",
    "TBD\n"
   ]
  },
  {
   "cell_type": "markdown",
   "metadata": {},
   "source": [
    "# 2商业情况\n"
   ]
  },
  {
   "cell_type": "markdown",
   "metadata": {},
   "source": [
    "# 3竞争情况"
   ]
  },
  {
   "cell_type": "markdown",
   "metadata": {},
   "source": [
    "# 4财务情况\n",
    "## 4.1生意情况"
   ]
  },
  {
   "cell_type": "code",
   "execution_count": 28,
   "metadata": {},
   "outputs": [
    {
     "name": "stdout",
     "output_type": "stream",
     "text": "000963\n"
    }
   ],
   "source": [
    "print(TS_CODE)"
   ]
  },
  {
   "cell_type": "markdown",
   "metadata": {},
   "source": [
    "## 4.2现金流"
   ]
  },
  {
   "cell_type": "markdown",
   "metadata": {},
   "source": [
    "## 4.3 负债情况"
   ]
  },
  {
   "cell_type": "markdown",
   "metadata": {},
   "source": [
    "## 4.4 回报率"
   ]
  }
 ]
}